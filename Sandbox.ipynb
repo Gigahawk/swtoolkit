{
 "cells": [
  {
   "cell_type": "code",
   "execution_count": 1,
   "metadata": {},
   "outputs": [],
   "source": [
    "from swtoolkit.api.solidworks import SolidWorks\n",
    "from swtoolkit.api.assemblydoc import AssemblyDoc"
   ]
  },
  {
   "cell_type": "code",
   "execution_count": 2,
   "metadata": {},
   "outputs": [
    {
     "name": "stdout",
     "output_type": "stream",
     "text": [
      "Session Process ID: 8848\n"
     ]
    }
   ],
   "source": [
    "sw = SolidWorks()\n",
    "print(f\"Session Process ID: {sw.pid}\")"
   ]
  },
  {
   "cell_type": "code",
   "execution_count": 3,
   "metadata": {},
   "outputs": [
    {
     "data": {
      "text/plain": [
       "[<DocumentTypes.PART: 1>,\n",
       " <DocumentTypes.PART: 1>,\n",
       " <DocumentTypes.PART: 1>,\n",
       " <DocumentTypes.PART: 1>,\n",
       " <DocumentTypes.PART: 1>,\n",
       " <DocumentTypes.PART: 1>,\n",
       " <DocumentTypes.PART: 1>,\n",
       " <DocumentTypes.PART: 1>,\n",
       " <DocumentTypes.PART: 1>,\n",
       " <DocumentTypes.ASSEMBLY: 2>,\n",
       " <DocumentTypes.ASSEMBLY: 2>,\n",
       " <DocumentTypes.ASSEMBLY: 2>]"
      ]
     },
     "execution_count": 3,
     "metadata": {},
     "output_type": "execute_result"
    }
   ],
   "source": [
    "models = sw.get_models()\n",
    "[model.type for model in models]"
   ]
  },
  {
   "cell_type": "code",
   "execution_count": 4,
   "metadata": {},
   "outputs": [
    {
     "data": {
      "text/plain": [
       "ModelDoc <TEST-AAA-AA.SLDASM>"
      ]
     },
     "execution_count": 4,
     "metadata": {},
     "output_type": "execute_result"
    }
   ],
   "source": [
    "model = sw.get_model()\n",
    "model"
   ]
  },
  {
   "cell_type": "code",
   "execution_count": 5,
   "metadata": {},
   "outputs": [],
   "source": [
    "models = model.get_components(top_level_only=True)"
   ]
  },
  {
   "cell_type": "code",
   "execution_count": 8,
   "metadata": {},
   "outputs": [
    {
     "data": {
      "text/plain": [
       "2"
      ]
     },
     "execution_count": 8,
     "metadata": {},
     "output_type": "execute_result"
    }
   ],
   "source": [
    "models[1].is_supressed()"
   ]
  },
  {
   "cell_type": "code",
   "execution_count": null,
   "metadata": {},
   "outputs": [],
   "source": []
  }
 ],
 "metadata": {
  "kernelspec": {
   "display_name": "Python 3",
   "language": "python",
   "name": "python3"
  },
  "language_info": {
   "codemirror_mode": {
    "name": "ipython",
    "version": 3
   },
   "file_extension": ".py",
   "mimetype": "text/x-python",
   "name": "python",
   "nbconvert_exporter": "python",
   "pygments_lexer": "ipython3",
   "version": "3.8.2"
  }
 },
 "nbformat": 4,
 "nbformat_minor": 4
}
