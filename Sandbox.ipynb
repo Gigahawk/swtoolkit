{
 "cells": [
  {
   "cell_type": "code",
   "execution_count": 30,
   "metadata": {},
   "outputs": [],
   "source": [
    "import pandas as pd\n",
    "\n",
    "from swtoolkit.api.solidworks import SolidWorks\n",
    "from swtoolkit.api.assemblydoc import AssemblyDoc\n",
    "from swtoolkit.api.enums.enum_options import DocumentTypes"
   ]
  },
  {
   "cell_type": "code",
   "execution_count": 31,
   "metadata": {
    "scrolled": true
   },
   "outputs": [
    {
     "name": "stdout",
     "output_type": "stream",
     "text": [
      "Session Process ID: 8848\n"
     ]
    }
   ],
   "source": [
    "sw = SolidWorks()\n",
    "print(f\"Session Process ID: {sw.pid}\")"
   ]
  },
  {
   "cell_type": "code",
   "execution_count": 32,
   "metadata": {
    "scrolled": true
   },
   "outputs": [
    {
     "data": {
      "text/plain": [
       "<AxesSubplot:>"
      ]
     },
     "metadata": {},
     "output_type": "display_data"
    },
    {
     "data": {
      "image/png": "[encoded data removed]",
      "text/plain": [
       "<Figure size 432x288 with 1 Axes>"
      ]
     },
     "metadata": {
      "needs_background": "light"
     },
     "output_type": "display_data"
    }
   ],
   "source": [
    "models = sw.get_models()\n",
    "types = [model.type for model in models]\n",
    "count = {\n",
    "    \"# of Parts\" : [types.count(DocumentTypes.PART)],\n",
    "    \"# of Assemblies\" : [types.count(DocumentTypes.ASSEMBLY)],\n",
    "    \"# of Drawings\" : [types.count(DocumentTypes.DRAWING)],\n",
    "}\n",
    "\n",
    "df = pd.DataFrame.from_dict(count, orient='index', columns=['Value'])\n",
    "display(df.plot.barh())"
   ]
  },
  {
   "cell_type": "code",
   "execution_count": 33,
   "metadata": {},
   "outputs": [
    {
     "data": {
      "text/html": [
       "<div>\n",
       "<style scoped>\n",
       "    .dataframe tbody tr th:only-of-type {\n",
       "        vertical-align: middle;\n",
       "    }\n",
       "\n",
       "    .dataframe tbody tr th {\n",
       "        vertical-align: top;\n",
       "    }\n",
       "\n",
       "    .dataframe thead th {\n",
       "        text-align: right;\n",
       "    }\n",
       "</style>\n",
       "<table border=\"1\" class=\"dataframe\">\n",
       "  <thead>\n",
       "    <tr style=\"text-align: right;\">\n",
       "      <th></th>\n",
       "      <th>Value</th>\n",
       "    </tr>\n",
       "  </thead>\n",
       "  <tbody>\n",
       "    <tr>\n",
       "      <th># of Parts</th>\n",
       "      <td>9</td>\n",
       "    </tr>\n",
       "    <tr>\n",
       "      <th># of Assemblies</th>\n",
       "      <td>3</td>\n",
       "    </tr>\n",
       "    <tr>\n",
       "      <th># of Drawings</th>\n",
       "      <td>0</td>\n",
       "    </tr>\n",
       "  </tbody>\n",
       "</table>\n",
       "</div>"
      ],
      "text/plain": [
       "                 Value\n",
       "# of Parts           9\n",
       "# of Assemblies      3\n",
       "# of Drawings        0"
      ]
     },
     "metadata": {},
     "output_type": "display_data"
    }
   ],
   "source": [
    "display(df)"
   ]
  },
  {
   "cell_type": "code",
   "execution_count": null,
   "metadata": {},
   "outputs": [],
   "source": []
  },
  {
   "cell_type": "code",
   "execution_count": 23,
   "metadata": {
    "scrolled": false
   },
   "outputs": [
    {
     "data": {
      "text/plain": [
       "[[Feature <Comments> <8>,\n",
       "  Feature <Favorites> <193>,\n",
       "  Feature <History> <194>,\n",
       "  Feature <Selection Sets> <195>,\n",
       "  Feature <Sensors> <192>,\n",
       "  Feature <Design Binder> <7>,\n",
       "  Feature <Annotations> <1>,\n",
       "  Feature <Surface Bodies> <10>,\n",
       "  Feature <Solid Bodies> <9>,\n",
       "  Feature <TUBE, SQUARE 76.20 X 76.20 X 6.35<1>> <52>,\n",
       "  Feature <TUBE, SQUARE 76.20 X 76.20 X 6.35<2>> <53>,\n",
       "  Feature <TUBE, SQUARE 76.20 X 76.20 X 6.35<3>> <54>,\n",
       "  Feature <L 50.80 X 50.80 X 3.175<1>> <88>,\n",
       "  Feature <Cut-List-Item11> <118>,\n",
       "  Feature <Cut-List-Item12> <137>,\n",
       "  Feature <TUBE, SQUARE 76.20 X 76.20 X 6.35<10>> <163>,\n",
       "  Feature <TUBE, SQUARE 76.20 X 76.20 X 6.35<11>> <164>,\n",
       "  Feature <Lights, Cameras and Scene> <6>,\n",
       "  Feature <Markups> <191>,\n",
       "  Feature <Equations> <16>,\n",
       "  Feature <Material <not specified>> <11>,\n",
       "  Feature <Front Plane> <2>,\n",
       "  Feature <Top Plane> <3>,\n",
       "  Feature <Right Plane> <4>,\n",
       "  Feature <Origin> <5>,\n",
       "  Feature <Weldment> <37>,\n",
       "  Feature <3DSketch1> <18>,\n",
       "  Feature <Square tube - configured 3 X 3 X 0.25(1)> <51>,\n",
       "  Feature <3DSketch2> <69>,\n",
       "  Feature <Angle iron - configured 2 X 2 X 0.125(1)> <87>,\n",
       "  Feature <Plane7> <98>,\n",
       "  Feature <Sketch19> <99>,\n",
       "  Feature <Boss-Extrude1> <117>,\n",
       "  Feature <Sketch20> <122>,\n",
       "  Feature <Boss-Extrude2> <136>,\n",
       "  Feature <M12x1.75 Tapped Hole1> <144>,\n",
       "  Feature <Sketch24> <184>],\n",
       " [Feature <Favorites> <18>,\n",
       "  Feature <History> <19>,\n",
       "  Feature <Selection Sets> <20>,\n",
       "  Feature <Sensors> <14>,\n",
       "  Feature <Design Binder> <12>,\n",
       "  Feature <Annotations> <1>,\n",
       "  Feature <Markups> <23>,\n",
       "  Feature <Lights, Cameras and Scene> <2>,\n",
       "  Feature <Solid Bodies> <10>,\n",
       "  Feature <Surface Bodies> <9>,\n",
       "  Feature <Comments> <13>,\n",
       "  Feature <Equations> <15>,\n",
       "  Feature <Material <not specified>> <11>,\n",
       "  Feature <Front> <3>,\n",
       "  Feature <Top> <4>,\n",
       "  Feature <Right> <5>,\n",
       "  Feature <Origin> <6>,\n",
       "  Feature <Sketch1> <24>,\n",
       "  Feature <Boss-Extrude1> <30>,\n",
       "  Feature <CBORE for M12 SHCS1> <76>],\n",
       " [Feature <Comments> <8>,\n",
       "  Feature <Favorites> <40>,\n",
       "  Feature <History> <41>,\n",
       "  Feature <Selection Sets> <42>,\n",
       "  Feature <Sensors> <39>,\n",
       "  Feature <Design Binder> <7>,\n",
       "  Feature <Annotations> <1>,\n",
       "  Feature <Surface Bodies> <10>,\n",
       "  Feature <Solid Bodies> <9>,\n",
       "  Feature <Lights, Cameras and Scene> <6>,\n",
       "  Feature <Markups> <37>,\n",
       "  Feature <Equations> <16>,\n",
       "  Feature <Material <not specified>> <11>,\n",
       "  Feature <Front Plane> <2>,\n",
       "  Feature <Top Plane> <3>,\n",
       "  Feature <Right Plane> <4>,\n",
       "  Feature <Origin> <5>,\n",
       "  Feature <Imported1> <29>,\n",
       "  Feature <Imported2> <30>,\n",
       "  Feature <Imported3> <31>,\n",
       "  Feature <Imported4> <32>],\n",
       " [Feature <Favorites> <18>,\n",
       "  Feature <History> <19>,\n",
       "  Feature <Selection Sets> <20>,\n",
       "  Feature <Sensors> <14>,\n",
       "  Feature <Design Binder> <12>,\n",
       "  Feature <Annotations> <1>,\n",
       "  Feature <Markups> <23>,\n",
       "  Feature <Lights, Cameras and Scene> <2>,\n",
       "  Feature <Solid Bodies> <10>,\n",
       "  Feature <Surface Bodies> <9>,\n",
       "  Feature <Comments> <13>,\n",
       "  Feature <Equations> <15>,\n",
       "  Feature <Material <not specified>> <11>,\n",
       "  Feature <Front> <3>,\n",
       "  Feature <Top> <4>,\n",
       "  Feature <Right> <5>,\n",
       "  Feature <Origin> <6>,\n",
       "  Feature <Imported1> <24>,\n",
       "  Feature <Axis1> <25>],\n",
       " [Feature <Favorites> <18>,\n",
       "  Feature <History> <19>,\n",
       "  Feature <Selection Sets> <20>,\n",
       "  Feature <Sensors> <14>,\n",
       "  Feature <Design Binder> <12>,\n",
       "  Feature <Annotations> <1>,\n",
       "  Feature <Markups> <23>,\n",
       "  Feature <Lights, Cameras and Scene> <2>,\n",
       "  Feature <Solid Bodies> <10>,\n",
       "  Feature <Surface Bodies> <9>,\n",
       "  Feature <Comments> <13>,\n",
       "  Feature <Equations> <15>,\n",
       "  Feature <Material <not specified>> <11>,\n",
       "  Feature <Front> <3>,\n",
       "  Feature <Top> <4>,\n",
       "  Feature <Right> <5>,\n",
       "  Feature <Origin> <6>,\n",
       "  Feature <Imported1> <24>,\n",
       "  Feature <Axis1> <25>,\n",
       "  Feature <Axis2> <26>],\n",
       " [Feature <Favorites> <18>,\n",
       "  Feature <History> <19>,\n",
       "  Feature <Selection Sets> <20>,\n",
       "  Feature <Sensors> <14>,\n",
       "  Feature <Design Binder> <12>,\n",
       "  Feature <Annotations> <1>,\n",
       "  Feature <Markups> <23>,\n",
       "  Feature <Lights, Cameras and Scene> <2>,\n",
       "  Feature <Solid Bodies> <10>,\n",
       "  Feature <Surface Bodies> <9>,\n",
       "  Feature <Comments> <13>,\n",
       "  Feature <Equations> <15>,\n",
       "  Feature <Material <not specified>> <11>,\n",
       "  Feature <Front> <3>,\n",
       "  Feature <Top> <4>,\n",
       "  Feature <Right> <5>,\n",
       "  Feature <Origin> <6>,\n",
       "  Feature <Imported1> <24>,\n",
       "  Feature <Axis1> <25>,\n",
       "  Feature <Axis2> <26>],\n",
       " [Feature <Favorites> <18>,\n",
       "  Feature <History> <19>,\n",
       "  Feature <Selection Sets> <20>,\n",
       "  Feature <Sensors> <14>,\n",
       "  Feature <Design Binder> <12>,\n",
       "  Feature <Annotations> <1>,\n",
       "  Feature <Markups> <23>,\n",
       "  Feature <Lights, Cameras and Scene> <2>,\n",
       "  Feature <Solid Bodies> <10>,\n",
       "  Feature <Surface Bodies> <9>,\n",
       "  Feature <Comments> <13>,\n",
       "  Feature <Equations> <15>,\n",
       "  Feature <Material <not specified>> <11>,\n",
       "  Feature <Front> <3>,\n",
       "  Feature <Top> <4>,\n",
       "  Feature <Right> <5>,\n",
       "  Feature <Origin> <6>,\n",
       "  Feature <Imported1> <24>,\n",
       "  Feature <Axis1> <25>],\n",
       " [Feature <Favorites> <18>,\n",
       "  Feature <History> <19>,\n",
       "  Feature <Selection Sets> <20>,\n",
       "  Feature <Sensors> <14>,\n",
       "  Feature <Design Binder> <12>,\n",
       "  Feature <Annotations> <1>,\n",
       "  Feature <Markups> <23>,\n",
       "  Feature <Lights, Cameras and Scene> <2>,\n",
       "  Feature <Solid Bodies> <10>,\n",
       "  Feature <Surface Bodies> <9>,\n",
       "  Feature <Comments> <13>,\n",
       "  Feature <Equations> <15>,\n",
       "  Feature <Material <not specified>> <11>,\n",
       "  Feature <Front> <3>,\n",
       "  Feature <Top> <4>,\n",
       "  Feature <Right> <5>,\n",
       "  Feature <Origin> <6>,\n",
       "  Feature <Imported1> <24>,\n",
       "  Feature <Axis1> <25>,\n",
       "  Feature <Axis2> <26>],\n",
       " [Feature <Favorites> <18>,\n",
       "  Feature <History> <19>,\n",
       "  Feature <Selection Sets> <20>,\n",
       "  Feature <Sensors> <14>,\n",
       "  Feature <Design Binder> <12>,\n",
       "  Feature <Annotations> <1>,\n",
       "  Feature <Markups> <23>,\n",
       "  Feature <Lights, Cameras and Scene> <2>,\n",
       "  Feature <Solid Bodies> <10>,\n",
       "  Feature <Surface Bodies> <9>,\n",
       "  Feature <Comments> <13>,\n",
       "  Feature <Equations> <15>,\n",
       "  Feature <Material <not specified>> <11>,\n",
       "  Feature <Front> <3>,\n",
       "  Feature <Top> <4>,\n",
       "  Feature <Right> <5>,\n",
       "  Feature <Origin> <6>,\n",
       "  Feature <Imported1> <24>],\n",
       " [Feature <Favorites> <17>,\n",
       "  Feature <History> <19>,\n",
       "  Feature <Selection Sets> <20>,\n",
       "  Feature <Sensors> <15>,\n",
       "  Feature <Design Binder> <11>,\n",
       "  Feature <Annotations> <2>,\n",
       "  Feature <Markups> <23>,\n",
       "  Feature <Lights, Cameras and Scene> <3>,\n",
       "  Feature <Simulation> <14>,\n",
       "  Feature <Comments> <12>,\n",
       "  Feature <Equations> <16>,\n",
       "  Feature <Front> <4>,\n",
       "  Feature <Top> <5>,\n",
       "  Feature <Right> <6>,\n",
       "  Feature <Origin> <7>,\n",
       "  Feature <TEST-BBB-AA-1> <25>,\n",
       "  Feature <T6-602S-1> <28>,\n",
       "  Feature <T6-602S-2> <34>,\n",
       "  Feature <Mates> <8>],\n",
       " [Feature <Favorites> <17>,\n",
       "  Feature <History> <19>,\n",
       "  Feature <Selection Sets> <20>,\n",
       "  Feature <Sensors> <15>,\n",
       "  Feature <Design Binder> <11>,\n",
       "  Feature <Annotations> <2>,\n",
       "  Feature <Markups> <23>,\n",
       "  Feature <Lights, Cameras and Scene> <3>,\n",
       "  Feature <Simulation> <14>,\n",
       "  Feature <Comments> <12>,\n",
       "  Feature <Equations> <16>,\n",
       "  Feature <Front> <4>,\n",
       "  Feature <Top> <5>,\n",
       "  Feature <Right> <6>,\n",
       "  Feature <Origin> <7>,\n",
       "  Feature <TEST-BBB-AB-1> <24>,\n",
       "  Feature <TEST-BBB-AC-1> <25>,\n",
       "  Feature <6111K257_SWIVEL LEVELING MOUNT-1> <33>,\n",
       "  Feature <6111K257_SWIVEL LEVELING MOUNT-2> <39>,\n",
       "  Feature <6111K257_SWIVEL LEVELING MOUNT-3> <40>,\n",
       "  Feature <6111K257_SWIVEL LEVELING MOUNT-4> <41>,\n",
       "  Feature <Mates> <8>,\n",
       "  Feature <InContextFeature1> <29>,\n",
       "  Feature <InContextFeature4> <32>,\n",
       "  Feature <LocalSketchPattern1> <37>,\n",
       "  Feature <InContextFeature5> <42>,\n",
       "  Feature <InContextFeature6> <43>],\n",
       " [Feature <Favorites> <17>,\n",
       "  Feature <History> <19>,\n",
       "  Feature <Selection Sets> <20>,\n",
       "  Feature <Sensors> <15>,\n",
       "  Feature <Design Binder> <11>,\n",
       "  Feature <Annotations> <2>,\n",
       "  Feature <Markups> <23>,\n",
       "  Feature <Lights, Cameras and Scene> <3>,\n",
       "  Feature <Simulation> <14>,\n",
       "  Feature <Comments> <12>,\n",
       "  Feature <Equations> <16>,\n",
       "  Feature <Front> <4>,\n",
       "  Feature <Top> <5>,\n",
       "  Feature <Right> <6>,\n",
       "  Feature <Origin> <7>,\n",
       "  Feature <_T6-602S_BASE_1_2-1> <24>,\n",
       "  Feature <_T6-602S_ARM1_1_2-1> <25>,\n",
       "  Feature <_T6-602S_ARM2_1_2-1> <26>,\n",
       "  Feature <_T6-602S_SHAFT_1_2-1> <27>,\n",
       "  Feature <_T6-602S_CABLE_1_2-1> <28>,\n",
       "  Feature <_T6-602SWS-1> <29>,\n",
       "  Feature <Mates> <8>]]"
      ]
     },
     "execution_count": 23,
     "metadata": {},
     "output_type": "execute_result"
    }
   ],
   "source": [
    "features = [model.feature_manager.get_features() for model in models]\n",
    "features"
   ]
  },
  {
   "cell_type": "code",
   "execution_count": 22,
   "metadata": {},
   "outputs": [],
   "source": [
    "model = sw.get_model()\n",
    "model.set_view(\"Isometric\", fit=True)"
   ]
  },
  {
   "cell_type": "code",
   "execution_count": 20,
   "metadata": {
    "scrolled": true
   },
   "outputs": [
    {
     "data": {
      "text/plain": [
       "'TEST-AAA-AA.SLDASM'"
      ]
     },
     "execution_count": 20,
     "metadata": {},
     "output_type": "execute_result"
    }
   ],
   "source": [
    "model.title"
   ]
  },
  {
   "cell_type": "code",
   "execution_count": 21,
   "metadata": {},
   "outputs": [
    {
     "data": {
      "text/plain": [
       "ModelDoc <TEST-AAA-AA.SLDASM>"
      ]
     },
     "execution_count": 21,
     "metadata": {},
     "output_type": "execute_result"
    }
   ],
   "source": [
    "model = sw.get_model()\n",
    "model"
   ]
  },
  {
   "cell_type": "code",
   "execution_count": 18,
   "metadata": {},
   "outputs": [],
   "source": [
    "model.zoom_to_fit()"
   ]
  },
  {
   "cell_type": "code",
   "execution_count": null,
   "metadata": {},
   "outputs": [],
   "source": []
  },
  {
   "cell_type": "code",
   "execution_count": null,
   "metadata": {},
   "outputs": [],
   "source": []
  }
 ],
 "metadata": {
  "kernelspec": {
   "display_name": "Python 3",
   "language": "python",
   "name": "python3"
  },
  "language_info": {
   "codemirror_mode": {
    "name": "ipython",
    "version": 3
   },
   "file_extension": ".py",
   "mimetype": "text/x-python",
   "name": "python",
   "nbconvert_exporter": "python",
   "pygments_lexer": "ipython3",
   "version": "3.8.2"
  }
 },
 "nbformat": 4,
 "nbformat_minor": 4
}
